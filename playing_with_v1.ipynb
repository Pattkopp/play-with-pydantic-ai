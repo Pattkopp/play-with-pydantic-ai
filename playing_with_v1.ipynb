{
 "cells": [
  {
   "cell_type": "code",
   "id": "initial_id",
   "metadata": {
    "collapsed": true,
    "ExecuteTime": {
     "end_time": "2025-09-11T19:26:43.752096Z",
     "start_time": "2025-09-11T19:26:43.591060Z"
    }
   },
   "source": [
    "from dotenv import load_dotenv\n",
    "from pydantic_ai import Agent\n",
    "\n",
    "load_dotenv()"
   ],
   "outputs": [
    {
     "data": {
      "text/plain": [
       "True"
      ]
     },
     "execution_count": 1,
     "metadata": {},
     "output_type": "execute_result"
    }
   ],
   "execution_count": 1
  },
  {
   "metadata": {
    "ExecuteTime": {
     "end_time": "2025-09-11T19:35:42.287588Z",
     "start_time": "2025-09-11T19:35:39.502173Z"
    }
   },
   "cell_type": "code",
   "source": [
    "agent = Agent(\n",
    "    'anthropic:claude-sonnet-4-0',\n",
    "    instructions='Be concise, reply with one sentence.',\n",
    ")\n",
    "\n",
    "result = await agent.run('Where does \"hello world\" come from?')\n",
    "print(result.output)\n",
    "\"\"\"\n",
    "The first known use of \"hello, world\" was in a 1974 textbook about the C programming language.\n",
    "\"\"\""
   ],
   "id": "5738032a12309cd0",
   "outputs": [
    {
     "name": "stdout",
     "output_type": "stream",
     "text": [
      "\"Hello, World!\" originates from Brian Kernighan and Dennis Ritchie's 1978 book \"The C Programming Language,\" where it was used as the first example program, though Kernighan had used a similar example in earlier Bell Labs documentation.\n"
     ]
    },
    {
     "data": {
      "text/plain": [
       "'\\nThe first known use of \"hello, world\" was in a 1974 textbook about the C programming language.\\n'"
      ]
     },
     "execution_count": 3,
     "metadata": {},
     "output_type": "execute_result"
    }
   ],
   "execution_count": 3
  },
  {
   "metadata": {},
   "cell_type": "code",
   "source": "",
   "id": "842c253270e36cce",
   "outputs": [],
   "execution_count": null
  }
 ],
 "metadata": {
  "kernelspec": {
   "display_name": "Python 3",
   "language": "python",
   "name": "python3"
  },
  "language_info": {
   "codemirror_mode": {
    "name": "ipython",
    "version": 2
   },
   "file_extension": ".py",
   "mimetype": "text/x-python",
   "name": "python",
   "nbconvert_exporter": "python",
   "pygments_lexer": "ipython2",
   "version": "2.7.6"
  }
 },
 "nbformat": 4,
 "nbformat_minor": 5
}
