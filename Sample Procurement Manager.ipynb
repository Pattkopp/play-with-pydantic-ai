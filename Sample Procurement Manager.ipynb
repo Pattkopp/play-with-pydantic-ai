{
 "cells": [
  {
   "cell_type": "code",
   "id": "initial_id",
   "metadata": {
    "collapsed": true,
    "ExecuteTime": {
     "end_time": "2025-09-04T06:12:01.079349Z",
     "start_time": "2025-09-04T06:12:00.889734Z"
    }
   },
   "source": [
    "from dotenv import load_dotenv\n",
    "from pydantic_ai import Agent\n",
    "from pydantic import BaseModel\n",
    "from pydantic_ai.messages import ModelMessagesTypeAdapter\n",
    "from pydantic_core import to_jsonable_python\n",
    "\n",
    "load_dotenv()"
   ],
   "outputs": [
    {
     "data": {
      "text/plain": [
       "True"
      ]
     },
     "execution_count": 1,
     "metadata": {},
     "output_type": "execute_result"
    }
   ],
   "execution_count": 1
  },
  {
   "metadata": {
    "ExecuteTime": {
     "end_time": "2025-09-04T06:12:01.210870Z",
     "start_time": "2025-09-04T06:12:01.209065Z"
    }
   },
   "cell_type": "code",
   "source": [
    "def add_history(old_history):\n",
    "    return ModelMessagesTypeAdapter.validate_python(to_jsonable_python(old_history.all_messages()))"
   ],
   "id": "d0e023a3e2e97483",
   "outputs": [],
   "execution_count": 2
  },
  {
   "metadata": {
    "ExecuteTime": {
     "end_time": "2025-09-04T06:12:02.364349Z",
     "start_time": "2025-09-04T06:12:02.185095Z"
    }
   },
   "cell_type": "code",
   "source": [
    "agent = Agent(\n",
    "    model=\"openai:gpt-5\",\n",
    "    system_prompt=\"\"\"\n",
    "    You are the procurement manager of a company. You run a team of buyers across different categories and regions.\n",
    "    \"\"\",\n",
    ")"
   ],
   "id": "793477212e5a042e",
   "outputs": [],
   "execution_count": 3
  },
  {
   "metadata": {
    "jupyter": {
     "is_executing": true
    },
    "ExecuteTime": {
     "start_time": "2025-09-04T06:12:03.168968Z"
    }
   },
   "cell_type": "code",
   "source": [
    "question = \"\"\"\n",
    "    What are the most common challenges or inefficiencies you experience in your current workflow or daily tasks?\n",
    "\"\"\"\n",
    "\n",
    "result = await agent.run(question)\n",
    "print(result.output)"
   ],
   "id": "47461282800144c6",
   "outputs": [],
   "execution_count": null
  },
  {
   "metadata": {},
   "cell_type": "code",
   "outputs": [],
   "execution_count": null,
   "source": [
    "question = \"\"\"\n",
    "    How do you currently gather or process information to make decisions, and where do you find gaps or bottlenecks in this process?\n",
    "\"\"\"\n",
    "\n",
    "old_history = result\n",
    "result = await agent.run(question, message_history=add_history(old_history))\n",
    "print(result.output)"
   ],
   "id": "96666f0a04c818ed"
  },
  {
   "metadata": {},
   "cell_type": "code",
   "outputs": [],
   "execution_count": null,
   "source": [
    "question = \"\"\"\n",
    "    Are there any tasks you find repetitive or time-consuming, which you believe could be automated or enhanced?\n",
    "\"\"\"\n",
    "\n",
    "old_history = result\n",
    "result = await agent.run(question, message_history=add_history(old_history))\n",
    "print(result.output)"
   ],
   "id": "92083c76813be57e"
  },
  {
   "metadata": {},
   "cell_type": "code",
   "outputs": [],
   "execution_count": null,
   "source": [
    "question = \"\"\"\n",
    "    In what ways would you like more support or insight when using technology, and how could AI help you achieve your goals more effectively?\n",
    "\"\"\"\n",
    "\n",
    "old_history = result\n",
    "result = await agent.run(question, message_history=add_history(old_history))\n",
    "print(result.output)"
   ],
   "id": "baf4be0482e37e22"
  },
  {
   "metadata": {},
   "cell_type": "code",
   "outputs": [],
   "execution_count": null,
   "source": [
    "question = \"\"\"\n",
    "    How comfortable are you with AI-driven systems making suggestions or decisions for you, and where would you want to retain control?\n",
    "\"\"\"\n",
    "\n",
    "old_history = result\n",
    "result = await agent.run(question, message_history=add_history(old_history))\n",
    "print(result.output)"
   ],
   "id": "3dcf8edee3b8e40b"
  },
  {
   "metadata": {},
   "cell_type": "code",
   "outputs": [],
   "execution_count": null,
   "source": [
    "question = \"\"\"\n",
    "    Have you experienced any frustration with current AI or automated tools? What would you improve or change about them?\n",
    "\"\"\"\n",
    "\n",
    "old_history = result\n",
    "result = await agent.run(question, message_history=add_history(old_history))\n",
    "print(result.output)"
   ],
   "id": "443f670b20a06428"
  },
  {
   "metadata": {},
   "cell_type": "code",
   "outputs": [],
   "execution_count": null,
   "source": [
    "question = \"\"\"\n",
    "    What types of data or information do you often need but find difficult or time-consuming to access?\n",
    "\"\"\"\n",
    "\n",
    "old_history = result\n",
    "result = await agent.run(question, message_history=add_history(old_history))\n",
    "print(result.output)"
   ],
   "id": "53beabf8b6f08fec"
  },
  {
   "metadata": {},
   "cell_type": "code",
   "outputs": [],
   "execution_count": null,
   "source": [
    "question = \"\"\"\n",
    "    Can you describe a situation where having predictive insights (e.g., forecasts, trends) would improve your decision-making?\n",
    "\"\"\"\n",
    "\n",
    "old_history = result\n",
    "result = await agent.run(question, message_history=add_history(old_history))\n",
    "print(result.output)"
   ],
   "id": "6cc14ecfeb339c0"
  },
  {
   "metadata": {},
   "cell_type": "code",
   "outputs": [],
   "execution_count": null,
   "source": [
    "question = \"\"\"\n",
    "    How do you feel about interacting with AI tools, and what would make these interactions feel more natural or helpful to you?\n",
    "\"\"\"\n",
    "\n",
    "old_history = result\n",
    "result = await agent.run(question, message_history=add_history(old_history))\n",
    "print(result.output)"
   ],
   "id": "7ff19a8fa21b8339"
  },
  {
   "metadata": {},
   "cell_type": "code",
   "outputs": [],
   "execution_count": null,
   "source": [
    "question = \"\"\"\n",
    "    Are there any specific tasks where you feel AI could help reduce human error or improve accuracy?\n",
    "\"\"\"\n",
    "\n",
    "old_history = result\n",
    "result = await agent.run(question, message_history=add_history(old_history))\n",
    "print(result.output)"
   ],
   "id": "345fd0b346dd9306"
  },
  {
   "metadata": {},
   "cell_type": "code",
   "outputs": [],
   "execution_count": null,
   "source": [
    "question = \"\"\"\n",
    "    When using technology, what features or feedback mechanisms make you feel most in control or aware of what's happening?\n",
    "\"\"\"\n",
    "\n",
    "old_history = result\n",
    "result = await agent.run(question, message_history=add_history(old_history))\n",
    "print(result.output)"
   ],
   "id": "2f640d265e87ec31"
  },
  {
   "metadata": {},
   "cell_type": "code",
   "outputs": [],
   "execution_count": null,
   "source": [
    "question = \"\"\"\n",
    "    If an AI system could assist with your tasks, what kind of feedback or transparency would you need to trust it?\n",
    "\"\"\"\n",
    "\n",
    "old_history = result\n",
    "result = await agent.run(question, message_history=add_history(old_history))\n",
    "print(result.output)"
   ],
   "id": "8bdca1732254e6b"
  }
 ],
 "metadata": {
  "kernelspec": {
   "display_name": "Python 3",
   "language": "python",
   "name": "python3"
  },
  "language_info": {
   "codemirror_mode": {
    "name": "ipython",
    "version": 2
   },
   "file_extension": ".py",
   "mimetype": "text/x-python",
   "name": "python",
   "nbconvert_exporter": "python",
   "pygments_lexer": "ipython2",
   "version": "2.7.6"
  }
 },
 "nbformat": 4,
 "nbformat_minor": 5
}
