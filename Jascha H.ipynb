{
 "cells": [
  {
   "cell_type": "code",
   "id": "initial_id",
   "metadata": {
    "collapsed": true,
    "ExecuteTime": {
     "end_time": "2025-09-04T05:11:47.715209Z",
     "start_time": "2025-09-04T05:11:47.554264Z"
    }
   },
   "source": [
    "from dotenv import load_dotenv\n",
    "from pydantic_ai import Agent\n",
    "from pydantic import BaseModel\n",
    "from pydantic_ai.messages import ModelMessagesTypeAdapter\n",
    "from pydantic_core import to_jsonable_python\n",
    "\n",
    "load_dotenv()"
   ],
   "outputs": [
    {
     "data": {
      "text/plain": [
       "True"
      ]
     },
     "execution_count": 1,
     "metadata": {},
     "output_type": "execute_result"
    }
   ],
   "execution_count": 1
  },
  {
   "metadata": {},
   "cell_type": "code",
   "outputs": [],
   "execution_count": null,
   "source": [
    "agent = Agent(\n",
    "    model=\"openai:gpt-5\",\n",
    "    system_prompt=\"\"\"\n",
    "\n",
    "    \"\"\",\n",
    ")"
   ],
   "id": "88f69a794ae1b3cd"
  },
  {
   "metadata": {},
   "cell_type": "code",
   "outputs": [],
   "execution_count": null,
   "source": [
    "def add_history(old_history):\n",
    "    return ModelMessagesTypeAdapter.validate_python(to_jsonable_python(old_history.all_messages()))"
   ],
   "id": "d0e023a3e2e97483"
  },
  {
   "metadata": {},
   "cell_type": "code",
   "outputs": [],
   "execution_count": null,
   "source": [
    "question = \"\"\"\n",
    "\n",
    "\"\"\"\n",
    "\n",
    "result = await agent.run(question)\n",
    "print(result.output)"
   ],
   "id": "47461282800144c6"
  },
  {
   "metadata": {},
   "cell_type": "code",
   "outputs": [],
   "execution_count": null,
   "source": [
    "question = \"\"\"\n",
    "\n",
    "\"\"\"\n",
    "\n",
    "old_history = result\n",
    "result = await agent.run(question, message_history=add_history(old_history))\n",
    "print(result.output)"
   ],
   "id": "96666f0a04c818ed"
  },
  {
   "metadata": {},
   "cell_type": "code",
   "outputs": [],
   "execution_count": null,
   "source": [
    "question = \"\"\"\n",
    "\n",
    "\"\"\"\n",
    "\n",
    "old_history = result\n",
    "result = await agent.run(question, message_history=add_history(old_history))\n",
    "print(result.output)"
   ],
   "id": "92083c76813be57e"
  },
  {
   "metadata": {},
   "cell_type": "code",
   "outputs": [],
   "execution_count": null,
   "source": [
    "question = \"\"\"\n",
    "\n",
    "\"\"\"\n",
    "\n",
    "old_history = result\n",
    "result = await agent.run(question, message_history=add_history(old_history))\n",
    "print(result.output)"
   ],
   "id": "baf4be0482e37e22"
  },
  {
   "metadata": {},
   "cell_type": "code",
   "outputs": [],
   "execution_count": null,
   "source": [
    "question = \"\"\"\n",
    "\n",
    "\"\"\"\n",
    "\n",
    "old_history = result\n",
    "result = await agent.run(question, message_history=add_history(old_history))\n",
    "print(result.output)"
   ],
   "id": "3dcf8edee3b8e40b"
  },
  {
   "metadata": {},
   "cell_type": "code",
   "outputs": [],
   "execution_count": null,
   "source": [
    "question = \"\"\"\n",
    "\n",
    "\"\"\"\n",
    "\n",
    "old_history = result\n",
    "result = await agent.run(question, message_history=add_history(old_history))\n",
    "print(result.output)"
   ],
   "id": "443f670b20a06428"
  },
  {
   "metadata": {},
   "cell_type": "code",
   "outputs": [],
   "execution_count": null,
   "source": [
    "question = \"\"\"\n",
    "\n",
    "\"\"\"\n",
    "\n",
    "old_history = result\n",
    "result = await agent.run(question, message_history=add_history(old_history))\n",
    "print(result.output)"
   ],
   "id": "53beabf8b6f08fec"
  },
  {
   "metadata": {},
   "cell_type": "code",
   "outputs": [],
   "execution_count": null,
   "source": [
    "question = \"\"\"\n",
    "\n",
    "\"\"\"\n",
    "\n",
    "old_history = result\n",
    "result = await agent.run(question, message_history=add_history(old_history))\n",
    "print(result.output)"
   ],
   "id": "6cc14ecfeb339c0"
  }
 ],
 "metadata": {
  "kernelspec": {
   "display_name": "Python 3",
   "language": "python",
   "name": "python3"
  },
  "language_info": {
   "codemirror_mode": {
    "name": "ipython",
    "version": 2
   },
   "file_extension": ".py",
   "mimetype": "text/x-python",
   "name": "python",
   "nbconvert_exporter": "python",
   "pygments_lexer": "ipython2",
   "version": "2.7.6"
  }
 },
 "nbformat": 4,
 "nbformat_minor": 5
}
